{
 "cells": [
  {
   "cell_type": "code",
   "execution_count": 116,
   "metadata": {
    "collapsed": false
   },
   "outputs": [
    {
     "data": {
      "text/plain": [
       "[<matplotlib.lines.Line2D at 0x7fcfa055ec50>]"
      ]
     },
     "execution_count": 116,
     "metadata": {},
     "output_type": "execute_result"
    }
   ],
   "source": [
    "import numpy as np\n",
    "import matplotlib.pyplot as plt\n",
    "from numpy import linalg\n",
    "\n",
    "# Load data from a two-column ascii file\n",
    "x = np.genfromtxt('ex5/ex5Linx.dat')\n",
    "y = np.genfromtxt('ex5/ex5Liny.dat')\n",
    "\n",
    "x = np.expand_dims(x, axis=1)\n",
    "x = np.insert(x, 0, 1, 1)\n",
    "y = np.expand_dims(y, axis=1)\n",
    "\n",
    "# Plot the training data\n",
    "plt.plot(x[:,1], y, 'ro', markersize=10)"
   ]
  },
  {
   "cell_type": "code",
   "execution_count": 117,
   "metadata": {
    "collapsed": false
   },
   "outputs": [],
   "source": [
    "# Hack to stack columns with powers off a column\n",
    "# Perhaps there is a better way to do this\n",
    "\n",
    "# Our features are all powers of x from x^0 to x^5\n",
    "nc = np.array([1,1,1,1])\n",
    "\n",
    "for i in x:\n",
    "    nc = np.vstack((nc, np.array([i[1] ** 2, i[1] ** 3, i[1] ** 4, i[1] ** 5])))\n",
    "\n",
    "x = np.c_[x, nc[1:]]\n",
    "\n",
    "theta = np.zeros(np.shape(x[0]))\n",
    "theta = theta.transpose()"
   ]
  },
  {
   "cell_type": "code",
   "execution_count": 118,
   "metadata": {
    "collapsed": false
   },
   "outputs": [
    {
     "data": {
      "image/png": "[encoded data removed]",
      "text/plain": [
       "<matplotlib.figure.Figure at 0x7fcfa05b01d0>"
      ]
     },
     "metadata": {},
     "output_type": "display_data"
    }
   ],
   "source": [
    "# The regularization parameter\n",
    "\n",
    "lmbda = 0\n",
    "\n",
    "# Closed form solution from normal equations\n",
    "dia_m = lmbda * np.eye(6) # the extra regularization terms\n",
    "\n",
    "theta = linalg.solve( (x.transpose().dot(x) + dia_m), (x.transpose().dot(y)) )\n",
    "\n",
    "# Plot the linear fit\n",
    "# Our training data was only a few points, so we need\n",
    "# to create a denser array of x-values for plotting\n",
    "\n",
    "x_vals = np.arange(-1, 1, 0.05)\n",
    "features = np.array([1,1,1,1,1,1])\n",
    "for i in x_vals:\n",
    "    features = np.vstack((features, np.array([ i**j for j in range(6)]) ))\n",
    "\n",
    "plt.plot(x_vals, features[1:].dot(theta), '--', linewidth=2)\n",
    "plt.show()"
   ]
  }
 ],
 "metadata": {
  "kernelspec": {
   "display_name": "Python 2",
   "language": "python",
   "name": "python2"
  },
  "language_info": {
   "codemirror_mode": {
    "name": "ipython",
    "version": 2
   },
   "file_extension": ".py",
   "mimetype": "text/x-python",
   "name": "python",
   "nbconvert_exporter": "python",
   "pygments_lexer": "ipython2",
   "version": "2.7.6"
  }
 },
 "nbformat": 4,
 "nbformat_minor": 1
}
