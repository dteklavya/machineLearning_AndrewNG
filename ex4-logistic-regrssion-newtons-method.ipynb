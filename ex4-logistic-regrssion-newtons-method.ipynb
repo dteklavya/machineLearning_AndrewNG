{
 "cells": [
  {
   "cell_type": "code",
   "execution_count": 1,
   "metadata": {
    "collapsed": false
   },
   "outputs": [
    {
     "data": {
      "image/png": "[encoded data removed]",
      "text/plain": [
       "<matplotlib.figure.Figure at 0x7f7a0daa6310>"
      ]
     },
     "metadata": {},
     "output_type": "display_data"
    }
   ],
   "source": [
    "import numpy as np\n",
    "import pandas as pd\n",
    "import matplotlib.pyplot as plt\n",
    "import math\n",
    "\n",
    "# Exercise 4 - Logistc regression\n",
    "\n",
    "x = np.genfromtxt('ex4x.dat')\n",
    "y = np.genfromtxt('ex4y.dat')\n",
    "y = np.expand_dims(y, axis=1)\n",
    "\n",
    "# Add intercept term to x\n",
    "\n",
    "x = np.insert(x, 0, 1, 1)\n",
    "\n",
    "x = np.matrix(x)\n",
    "y = np.matrix(y)\n",
    "\n",
    "# Get positive and negatives\n",
    "pos = np.where(y==1)\n",
    "neg = np.where(y==0)\n",
    "\n",
    "# Plot the training data\n",
    "# Use different markers for positives and negatives\n",
    "\n",
    "plt.plot(x[pos, 1], x[neg, 2], '+')\n",
    "plt.plot(x[neg, 1], x[neg, 2], 'o')\n",
    "plt.xlabel('Exam 1 score')\n",
    "plt.ylabel('Exam 2 score')\n",
    "plt.show()\n",
    "\n",
    "(m, n) = np.shape(x)\n",
    "\n",
    "theta = np.zeros(n)\n",
    "theta = np.expand_dims(theta, axis=1)"
   ]
  },
  {
   "cell_type": "code",
   "execution_count": 2,
   "metadata": {
    "collapsed": false
   },
   "outputs": [
    {
     "data": {
      "text/plain": [
       "matrix([[-16.37874341],\n",
       "        [  0.14834077],\n",
       "        [  0.15890845]])"
      ]
     },
     "execution_count": 2,
     "metadata": {},
     "output_type": "execute_result"
    }
   ],
   "source": [
    "sigmoid = lambda a: 1 / (1 + math.exp(-a))\n",
    "\n",
    "# Vectorize sigmoid so it can operate on whole matrix\n",
    "vecsig = np.vectorize(sigmoid)\n",
    "\n",
    "max_itr = 7\n",
    "j = np.zeros(max_itr)\n",
    "\n",
    "for i in range(max_itr):\n",
    "    # Calculate the hypothesis function\n",
    "    z = x.dot(theta)\n",
    "    h = vecsig(z)\n",
    "    h = np.array(h)\n",
    "\n",
    "    # Calculate the gradient and hessian\n",
    "    # The implementation below is equivalent to the summation formulas\n",
    "    grad = x.transpose().dot(h - y) / m\n",
    "    hes = x.transpose().dot( np.diag(h[:,0]) ).dot( np.diag(1 - h[:,0]) ).dot(x) / m\n",
    "    \n",
    "    # Calculate J for testing convergence\n",
    "    \n",
    "    # Update theta\n",
    "    theta = theta - np.linalg.lstsq(hes, grad)[0]\n",
    "    \n",
    "theta"
   ]
  }
 ],
 "metadata": {
  "kernelspec": {
   "display_name": "Python 2",
   "language": "python",
   "name": "python2"
  },
  "language_info": {
   "codemirror_mode": {
    "name": "ipython",
    "version": 2
   },
   "file_extension": ".py",
   "mimetype": "text/x-python",
   "name": "python",
   "nbconvert_exporter": "python",
   "pygments_lexer": "ipython2",
   "version": "2.7.6"
  }
 },
 "nbformat": 4,
 "nbformat_minor": 1
}
