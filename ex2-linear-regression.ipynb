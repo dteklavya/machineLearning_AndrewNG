{
 "cells": [
  {
   "cell_type": "code",
   "execution_count": 4,
   "metadata": {
    "collapsed": false
   },
   "outputs": [
    {
     "data": {
      "text/plain": [
       "<matplotlib.text.Text at 0x7f92c93feb50>"
      ]
     },
     "execution_count": 4,
     "metadata": {},
     "output_type": "execute_result"
    }
   ],
   "source": [
    "# Exercise 2 Linear Regression\n",
    "\n",
    "# Data is roughly based on 2000 CDC growth figures\n",
    "# for boys\n",
    "# Downloaded from http://openclassroom.stanford.edu/MainFolder/courses/MachineLearning/exercises/ex2materials/ex2Data.zip\n",
    "\n",
    "import numpy as np\n",
    "import matplotlib.pyplot as plt\n",
    "import pandas as pd\n",
    "\n",
    "# x refers to a boy's age                                                 \n",
    "# y is a boy's height in meters                                           \n",
    "#\n",
    "# Load age and height data\n",
    "# Prepend a column with ones for x, this will be used later to calculate gradient descent\n",
    "\n",
    "\n",
    "x = np.genfromtxt('ex2x.dat')\n",
    "\n",
    "y = pd.DataFrame(np.genfromtxt('ex2y.dat'))\n",
    "\n",
    "# number of training examples\n",
    "m = len(y)\n",
    "\n",
    "# Plot the training data\n",
    "plt.plot(x, y, 'o')\n",
    "plt.xlabel('Age in years')\n",
    "plt.ylabel('Height in meters')"
   ]
  },
  {
   "cell_type": "code",
   "execution_count": 5,
   "metadata": {
    "collapsed": false
   },
   "outputs": [
    {
     "name": "stdout",
     "output_type": "stream",
     "text": [
      "[ 0.75015039  0.06388338]\n"
     ]
    }
   ],
   "source": [
    "# Gradient descent\n",
    "# Add a column of ones to x\n",
    "\n",
    "x = np.expand_dims(x, axis=1)\n",
    "x = np.insert(x, 0, 1, 1)\n",
    "\n",
    "# initialize fitting parameters\n",
    "theta = np.zeros(np.array(np.shape(x[1,:])))\n",
    "\n",
    "y = np.genfromtxt('ex2y.dat')\n",
    "m = len(y)\n",
    "\n",
    "MAX_ITR = 1500;\n",
    "alpha = 0.07; # Learning rate\n",
    "\n",
    "for i in range(MAX_ITR):\n",
    "    # This is a vectorized version of the\n",
    "    # gradient descent update formula\n",
    "    \n",
    "    # Here is the gradient\n",
    "    grad = (x.transpose() / m).dot(x.dot(theta) - y)\n",
    "    \n",
    "    # Here is the actual update\n",
    "    theta = theta - (alpha * grad)\n",
    "    \n",
    "print theta"
   ]
  },
  {
   "cell_type": "code",
   "execution_count": 6,
   "metadata": {
    "collapsed": false
   },
   "outputs": [
    {
     "data": {
      "image/png": "[encoded data removed]",
      "text/plain": [
       "<matplotlib.figure.Figure at 0x7f92f4645d90>"
      ]
     },
     "metadata": {},
     "output_type": "display_data"
    }
   ],
   "source": [
    "# Plot the linear fit\n",
    "plt.hold()\n",
    "plt.plot(x[:,1], x.dot(theta), '-')\n",
    "plt.show()"
   ]
  },
  {
   "cell_type": "code",
   "execution_count": 7,
   "metadata": {
    "collapsed": false
   },
   "outputs": [
    {
     "name": "stdout",
     "output_type": "stream",
     "text": [
      "[ 0.75015039  0.22359181]\n",
      "[ 0.75015039  0.44718363]\n"
     ]
    }
   ],
   "source": [
    "# Predict values for age 3.5 and 7\n",
    "\n",
    "print [1, 3.5] * theta\n",
    "print [1, 7] * theta"
   ]
  },
  {
   "cell_type": "code",
   "execution_count": 8,
   "metadata": {
    "collapsed": false
   },
   "outputs": [],
   "source": [
    "theta0 = np.linspace(-3, 3, 100)\n",
    "theta1 = np.linspace(-1, 1, 100)\n",
    "\n",
    "j_vals = np.zeros((len(theta0), len(theta1)))\n"
   ]
  }
 ],
 "metadata": {
  "kernelspec": {
   "display_name": "Python 2",
   "language": "python",
   "name": "python2"
  },
  "language_info": {
   "codemirror_mode": {
    "name": "ipython",
    "version": 2
   },
   "file_extension": ".py",
   "mimetype": "text/x-python",
   "name": "python",
   "nbconvert_exporter": "python",
   "pygments_lexer": "ipython2",
   "version": "2.7.6"
  }
 },
 "nbformat": 4,
 "nbformat_minor": 0
}
