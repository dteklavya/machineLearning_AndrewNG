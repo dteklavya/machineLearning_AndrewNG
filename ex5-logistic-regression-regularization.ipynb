{
 "cells": [
  {
   "cell_type": "code",
   "execution_count": 105,
   "metadata": {
    "collapsed": false
   },
   "outputs": [
    {
     "data": {
      "image/png": "[encoded data removed]",
      "text/plain": [
       "<matplotlib.figure.Figure at 0x7f02d52c0450>"
      ]
     },
     "metadata": {},
     "output_type": "display_data"
    }
   ],
   "source": [
    "import numpy as np\n",
    "import matplotlib.pyplot as plt\n",
    "from numpy import linalg\n",
    "import math\n",
    "\n",
    "# Load data from ascii file\n",
    "x = np.genfromtxt('ex5/ex5Logx.dat', delimiter=',')\n",
    "y = np.genfromtxt('ex5/ex5Logy.dat')\n",
    "y = np.expand_dims(y, axis=1)\n",
    "\n",
    "pos = np.where(y==1)\n",
    "neg = np.where(y==0)\n",
    "\n",
    "# Plot the training data\n",
    "plt.plot(x[pos, 0], x[pos, 1], 'b+')\n",
    "plt.plot(x[neg, 0], x[neg, 1], 'ro')\n",
    "plt.show()\n",
    "\n",
    "# print x\n",
    "arr = x[:,0] ** 2\n",
    "arr = np.expand_dims(arr, axis=1)"
   ]
  },
  {
   "cell_type": "code",
   "execution_count": 106,
   "metadata": {
    "collapsed": false
   },
   "outputs": [
    {
     "data": {
      "text/plain": [
       "(28, 1)"
      ]
     },
     "execution_count": 106,
     "metadata": {},
     "output_type": "execute_result"
    }
   ],
   "source": [
    "def map_feature(f1, f2):\n",
    "    out = np.ones((np.size(f1), 1))\n",
    "    for i in range(1,7):\n",
    "        for j in range(0,i+1):\n",
    "            xc = np.expand_dims( (f1 ** (i-j)) * (f2 ** j), axis=1 )\n",
    "            out = np.hstack((out, xc ))\n",
    "    return out\n",
    "\n",
    "x = map_feature(x[:,0], x[:,1])\n",
    "(m, n) = np.shape(x)\n",
    "\n",
    "theta = np.zeros(n)\n",
    "theta = np.expand_dims(theta, axis=1)\n",
    "np.shape(theta)"
   ]
  },
  {
   "cell_type": "code",
   "execution_count": 107,
   "metadata": {
    "collapsed": false
   },
   "outputs": [
    {
     "name": "stdout",
     "output_type": "stream",
     "text": [
      "[[   26.78199709]\n",
      " [   20.08445532]\n",
      " [   68.34254602]\n",
      " [ -319.82003964]\n",
      " [ -151.49181011]\n",
      " [ -107.10926645]\n",
      " [ -133.2614877 ]\n",
      " [ -479.48631125]\n",
      " [ -399.36464784]\n",
      " [ -365.86768314]\n",
      " [ 1312.02163901]\n",
      " [ 1350.45252692]\n",
      " [ 1351.54298638]\n",
      " [  557.87586485]\n",
      " [  272.73460664]\n",
      " [  353.32601844]\n",
      " [ 1084.05165274]\n",
      " [ 1373.39644719]\n",
      " [ 1661.46150131]\n",
      " [ 1136.52583771]\n",
      " [  619.76919023]\n",
      " [-1505.00771121]\n",
      " [-2291.86922051]\n",
      " [-3343.7935502 ]\n",
      " [-3116.8826241 ]\n",
      " [-2646.25078599]\n",
      " [-1299.73858143]\n",
      " [ -527.78656277]]\n"
     ]
    }
   ],
   "source": [
    "sigmoid = lambda a: 1 / (1 + math.exp(-a))\n",
    "\n",
    "# Vectorize sigmoid so it can operate on whole matrix\n",
    "vecsig = np.vectorize(sigmoid)\n",
    "\n",
    "max_itr = 15\n",
    "j = np.zeros(max_itr)\n",
    "\n",
    "lmbda = 0\n",
    "\n",
    "for i in range(max_itr):\n",
    "    # Calculate the hypothesis function\n",
    "    z = x.dot(theta)\n",
    "    h = vecsig(z)\n",
    "    h = np.array(h)\n",
    "\n",
    "    g = (lmbda / m) * (theta)\n",
    "    g[1] = 0\n",
    "    l = (lmbda / m) * (np.eye(n))\n",
    "    l[1] = 0\n",
    "    \n",
    "    # Calculate the gradient and hessian\n",
    "    # The implementation below is equivalent to the summation formulas\n",
    "    grad = ( x.transpose().dot(h - y) / m ) + g\n",
    "    hes = ( x.transpose().dot( np.diag(h[:,0]) ).dot( np.diag(1 - h[:,0]) ).dot(x) / m ) + l\n",
    "    \n",
    "    \n",
    "    # Update theta\n",
    "    theta = theta - np.linalg.lstsq(hes, grad)[0]\n",
    "    \n",
    "print theta"
   ]
  }
 ],
 "metadata": {
  "kernelspec": {
   "display_name": "Python 2",
   "language": "python",
   "name": "python2"
  },
  "language_info": {
   "codemirror_mode": {
    "name": "ipython",
    "version": 2
   },
   "file_extension": ".py",
   "mimetype": "text/x-python",
   "name": "python",
   "nbconvert_exporter": "python",
   "pygments_lexer": "ipython2",
   "version": "2.7.6"
  }
 },
 "nbformat": 4,
 "nbformat_minor": 1
}
